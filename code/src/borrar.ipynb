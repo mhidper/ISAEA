{
 "cells": [
  {
   "cell_type": "code",
   "execution_count": 2,
   "metadata": {},
   "outputs": [],
   "source": [
    "# Importar las bibliotecas necesarias\n",
    "import os\n",
    "import re\n",
    "from datetime import datetime\n",
    "import numpy as np\n",
    "import pandas as pd\n",
    "import matplotlib.pyplot as plt\n",
    "import seaborn as sns\n",
    "import warnings\n",
    "warnings.filterwarnings(\"ignore\")\n",
    "import statsmodels.api as sm\n",
    "import io\n",
    "import sys\n",
    "from contextlib import redirect_stdout \n",
    "# Asumimos que utils.py está disponible en el mismo directorio\n",
    "from utils import *  # Asegúrate de que este archivo está en la misma carpeta\n",
    "\n",
    "# Configuración de directorios de salida\n",
    "PROJECT_ROOT = os.path.dirname(os.path.abspath('__file__'))  # Ajustado para Jupyter\n",
    "DATA_DIR = os.path.join(PROJECT_ROOT, 'data')\n",
    "OUTPUT_DIR = os.path.join(PROJECT_ROOT, 'output')\n",
    "OUTPUT_MONTHLY_DIR = os.path.join(OUTPUT_DIR, 'monthly')\n",
    "OUTPUT_QUARTERLY_DIR = os.path.join(OUTPUT_DIR, 'quarterly')\n",
    "OUTPUT_NOWCASTING_DIR = os.path.join(OUTPUT_DIR, 'nowcasting')\n",
    "OUTPUT_RESULTS_DIR = os.path.join(OUTPUT_DIR, 'results')"
   ]
  },
  {
   "cell_type": "code",
   "execution_count": 3,
   "metadata": {},
   "outputs": [
    {
     "data": {
      "text/plain": [
       "'c:\\\\Users\\\\Usuario\\\\Documents\\\\Github\\\\ISAEA\\\\code\\\\src'"
      ]
     },
     "execution_count": 3,
     "metadata": {},
     "output_type": "execute_result"
    }
   ],
   "source": [
    "PROJECT_ROOT"
   ]
  }
 ],
 "metadata": {
  "kernelspec": {
   "display_name": "tftimeseriesIII",
   "language": "python",
   "name": "python3"
  },
  "language_info": {
   "codemirror_mode": {
    "name": "ipython",
    "version": 3
   },
   "file_extension": ".py",
   "mimetype": "text/x-python",
   "name": "python",
   "nbconvert_exporter": "python",
   "pygments_lexer": "ipython3",
   "version": "3.9.7"
  }
 },
 "nbformat": 4,
 "nbformat_minor": 2
}
